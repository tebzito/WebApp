{
 "cells": [
  {
   "cell_type": "code",
   "execution_count": 2,
   "metadata": {
    "collapsed": false,
    "slideshow": {
     "slide_type": "skip"
    }
   },
   "outputs": [],
   "source": [
    "# IPython powertools\n",
    "from IPython.display import clear_output, HTML, display, Javascript\n",
    "\n",
    "# The project formally known as IPython.widgets\n",
    "import ipywidgets as widgets\n",
    "\n",
    "# Will need this for our backend\n",
    "from sqlalchemy import table, MetaData, select\n",
    "\n",
    "# Our old friends\n",
    "import pandas as pd\n",
    "import numpy as np\n",
    "\n",
    "import qgrid\n",
    "\n",
    "import pyfolio\n",
    "\n",
    "cells_visable = True\n",
    "def toggle_code_cells(btn):\n",
    "    global cells_visable\n",
    "    if cells_visable:\n",
    "        display(Javascript(\"$('div.input').hide();\"))\n",
    "        btn.description = \"Show Code Cells\"\n",
    "    else:\n",
    "        display(Javascript(\"$('div.input').show();\"))\n",
    "        btn.description = \"Hide Code Cells\"\n",
    "    cells_visable = not cells_visable\n",
    "    \n",
    "\n",
    "toggle_btn = widgets.Button(description=\"Hide Code Cells\")\n",
    "toggle_btn.on_click(toggle_code_cells)\n",
    "\n",
    "display(toggle_btn)\n",
    "\n"
   ]
  },
  {
   "cell_type": "code",
   "execution_count": 4,
   "metadata": {
    "collapsed": false,
    "slideshow": {
     "slide_type": "skip"
    }
   },
   "outputs": [
    {
     "data": {
      "text/html": [
       "<style> .container { width:80% !important; } </style>"
      ],
      "text/plain": [
       "<IPython.core.display.HTML object>"
      ]
     },
     "metadata": {},
     "output_type": "display_data"
    }
   ],
   "source": [
    "css =\"\"\"<style> .container { width:80% !important; } </style>\"\"\"\n",
    "display(HTML(css))"
   ]
  },
  {
   "cell_type": "markdown",
   "metadata": {
    "slideshow": {
     "slide_type": "slide"
    }
   },
   "source": [
    "# Bootstrapping Internal Applications With IPython Widgets\n",
    "<br> </br>\n",
    "###  Andrew Campbell \n",
    "<img src=\"files/QuantopianLogo.png\"  width=\"400\">\n"
   ]
  },
  {
   "cell_type": "markdown",
   "metadata": {
    "slideshow": {
     "slide_type": "slide"
    }
   },
   "source": [
    "## A crowd sourced hedge fund?\n",
    "\n",
    "\n",
    "- Free set of tools for researching, building, and deploying stock trading algorithms.\n",
    "\n",
    "- 53,000 users.\n",
    "\n",
    "- 700,000 code snapshots in our point-in-time database.\n",
    "\n",
    "- We only see data exaust, not the user's code.\n",
    "\n",
    "- Finding and investing in the top .01% of algorithmic investing talent.\n",
    "\n",
    "- Algorithm authors keep a cut of the profit they generate.\n"
   ]
  },
  {
   "cell_type": "markdown",
   "metadata": {
    "slideshow": {
     "slide_type": "slide"
    }
   },
   "source": [
    "## From 700,000 to 10\n",
    "\n",
    "<center><img src='files/pipeline3.png' align='middle'></center>"
   ]
  },
  {
   "cell_type": "markdown",
   "metadata": {
    "slideshow": {
     "slide_type": "slide"
    }
   },
   "source": [
    "# Sometimes data science is manual"
   ]
  },
  {
   "cell_type": "markdown",
   "metadata": {
    "slideshow": {
     "slide_type": "slide"
    }
   },
   "source": [
    "### Pyfolio https://www.github.com/quantopian/pyfolio\n",
    "<div>\n",
    "<img src='all_tear_2.png'>\n",
    "</div>"
   ]
  },
  {
   "cell_type": "markdown",
   "metadata": {
    "slideshow": {
     "slide_type": "slide"
    }
   },
   "source": [
    "# Bookkeeping"
   ]
  },
  {
   "cell_type": "markdown",
   "metadata": {
    "slideshow": {
     "slide_type": "slide"
    }
   },
   "source": [
    "## The Google doc days...\n",
    "<img src=\"files/google_doc3.png\" width=2000>"
   ]
  },
  {
   "cell_type": "markdown",
   "metadata": {
    "slideshow": {
     "slide_type": "notes"
    }
   },
   "source": [
    "doesn't scale"
   ]
  },
  {
   "cell_type": "markdown",
   "metadata": {
    "slideshow": {
     "slide_type": "notes"
    }
   },
   "source": [
    "we were making this up as we went along. Can't go buy a book or look up a instructables article on how to crowdsource a hedge fund.\n",
    "\n",
    "image of instructables how to crowdsource a hedge fund image"
   ]
  },
  {
   "cell_type": "markdown",
   "metadata": {
    "slideshow": {
     "slide_type": "slide"
    }
   },
   "source": [
    "## JupyterHub data science stack"
   ]
  },
  {
   "cell_type": "markdown",
   "metadata": {},
   "source": [
    "Multi-user Jupyter (IPython) notebook server.\n",
    "\n",
    "Leverage computing power of AWS.\n",
    "\n",
    "Easily share research and tools.\n",
    "\n",
    "Docker:\n",
    "https://hub.docker.com/r/twiecki/pydata-docker-jupyterhub/"
   ]
  },
  {
   "cell_type": "markdown",
   "metadata": {
    "slideshow": {
     "slide_type": "slide"
    }
   },
   "source": [
    "## Started with simple functions"
   ]
  },
  {
   "cell_type": "code",
   "execution_count": 2,
   "metadata": {
    "collapsed": true
   },
   "outputs": [],
   "source": [
    "from sqlalchemy import Table, MetaData, create_engine\n",
    "\n",
    "def write_grade_to_db(algo_id, grader, grade=None, comment=None):\n",
    "    engine = create_engine(conn_str, echo=False)\n",
    "    metadata = MetaData()\n",
    "    metadata.reflect(bind=engine, schema='fund_stats')\n",
    "    grades_t = Table('grades', MetaData(),\n",
    "                     Column('algo_id', Integer, primary_key=True),\n",
    "                     Column('grader', String),\n",
    "                     Column('grade', String),\n",
    "                     Column('comment', String),\n",
    "                     schema='fund_stats')\n",
    "    \n",
    "    engine.execute(grades_t.insert().values(algo_id=algo_id,\n",
    "                                            grader=grader,\n",
    "                                            grade=grade,\n",
    "                                            comment=comment))\n",
    "    \n",
    "    \n",
    "    \n"
   ]
  },
  {
   "cell_type": "markdown",
   "metadata": {
    "collapsed": true,
    "slideshow": {
     "slide_type": "slide"
    }
   },
   "source": [
    "## Not quite there yet..."
   ]
  },
  {
   "cell_type": "markdown",
   "metadata": {
    "slideshow": {
     "slide_type": "-"
    }
   },
   "source": [
    "Grader name entered wrong!\n",
    "\n",
    "Use of non-uniform set of grades!\n",
    "\n",
    "Undocumented functions scattered around a notebook! \n",
    "\n",
    "We need something productized.\n",
    "\n",
    "We need **FAST** itteration.\n",
    "\n"
   ]
  },
  {
   "cell_type": "markdown",
   "metadata": {
    "slideshow": {
     "slide_type": "notes"
    }
   },
   "source": [
    "build things for people who arent familar with what you are making. should be usable right away... Hard to explain functions. \n",
    "Don't want to devote the dev time to me stumbling through deploying a flask app"
   ]
  },
  {
   "cell_type": "markdown",
   "metadata": {
    "slideshow": {
     "slide_type": "slide"
    }
   },
   "source": [
    "<center><h1>Widgets!</h1></center>\n"
   ]
  },
  {
   "cell_type": "markdown",
   "metadata": {
    "slideshow": {
     "slide_type": "slide"
    }
   },
   "source": [
    "## What are widgets?"
   ]
  },
  {
   "cell_type": "markdown",
   "metadata": {},
   "source": [
    "Interactive arm of the Jupyter project: https://github.com/ipython/ipywidgets/\n",
    "\n",
    "So far largely focused on digesting data.\n",
    "\n",
    "Why not jump off our JupyterHub platform and make a full blown app?\n",
    "\n"
   ]
  },
  {
   "cell_type": "markdown",
   "metadata": {
    "slideshow": {
     "slide_type": "slide"
    }
   },
   "source": [
    "## How do they work?\n",
    "\n",
    "- Comms API syncronizes Python model with Javascript view.\n",
    "- Handles websocket complexity for us.\n",
    "- Asychronous awesomeness taken care of. \n",
    "\n",
    "\n"
   ]
  },
  {
   "cell_type": "markdown",
   "metadata": {
    "slideshow": {
     "slide_type": "slide"
    }
   },
   "source": [
    "# Some basics"
   ]
  },
  {
   "cell_type": "markdown",
   "metadata": {
    "slideshow": {
     "slide_type": "slide"
    }
   },
   "source": [
    "## forms"
   ]
  },
  {
   "cell_type": "code",
   "execution_count": 3,
   "metadata": {
    "collapsed": false
   },
   "outputs": [
    {
     "name": "stdout",
     "output_type": "stream",
     "text": [
      "A\n",
      "0\n"
     ]
    }
   ],
   "source": [
    "from ipywidgets import widgets\n",
    "from IPython.display import display\n",
    "\n",
    "grade_select = widgets.Dropdown(options=[\"A\", \"A-\", \"B+\", \n",
    "                                         \"B\", \"C\", \"D\", \"zz\"])\n",
    "grade = grade_select.selected_label\n",
    "algo_id_field = widgets.IntText()\n",
    "algo_id = algo_id_field.value\n",
    "comment_field = widgets.Textarea(value='Enter Comment Here')\n",
    "\n",
    "# display() renders the widget view \n",
    "display(algo_id_field, grade_select, comment_field)\n",
    "print(grade_select.selected_label)\n",
    "print(algo_id_field.value)"
   ]
  },
  {
   "cell_type": "markdown",
   "metadata": {
    "slideshow": {
     "slide_type": "notes"
    }
   },
   "source": [
    "get_state method can expose all the attributes of a widget"
   ]
  },
  {
   "cell_type": "code",
   "execution_count": 4,
   "metadata": {
    "collapsed": true,
    "slideshow": {
     "slide_type": "skip"
    }
   },
   "outputs": [],
   "source": [
    "def write_grade_to_db(algo_id, grader, grade=None, comment=None):\n",
    "    return \"OK\""
   ]
  },
  {
   "cell_type": "markdown",
   "metadata": {
    "slideshow": {
     "slide_type": "slide"
    }
   },
   "source": [
    "## Buttons"
   ]
  },
  {
   "cell_type": "code",
   "execution_count": 6,
   "metadata": {
    "collapsed": false
   },
   "outputs": [],
   "source": [
    "def grade(btn):\n",
    "    write_grade_to_db(algo_id_field.value, 'master', \n",
    "                      grade=grade_select.selected_label, \n",
    "                      comment=comment_field.value)\n",
    "    print \"Grade Submitted!\"\n",
    "\n",
    "\n",
    "grade_btn_1 = widgets.Button(description=\"Grade\")\n",
    "grade_btn_1.button_style = ''\n",
    "grade_btn_1.on_click(grade)\n",
    "\n",
    "display(grade_btn_1)"
   ]
  },
  {
   "cell_type": "markdown",
   "metadata": {
    "slideshow": {
     "slide_type": "notes"
    }
   },
   "source": [
    "Buttons are stateless, so we need to register an action to make them send comms to our backend.\n",
    "register a callback much the way you would register a callback in Javascript."
   ]
  },
  {
   "cell_type": "code",
   "execution_count": 7,
   "metadata": {
    "collapsed": true,
    "slideshow": {
     "slide_type": "skip"
    }
   },
   "outputs": [],
   "source": [
    "grade_btn = widgets.Button(description=\"Grade\")\n",
    "tearsheet_btn = widgets.Button(description='Run Tearsheet')\n",
    "tearsheet_btn.margin = 5\n",
    "grade_select.margin = 5\n",
    "grade_btn.margin = 5\n",
    "comment_field.margin = 5\n",
    "algo_id_field.height = 45\n",
    "grade_select.height = 45\n",
    "comment_field.width = 378\n",
    "grade_btn.button_style = 'info'"
   ]
  },
  {
   "cell_type": "markdown",
   "metadata": {
    "slideshow": {
     "slide_type": "slide"
    }
   },
   "source": [
    "## styling groups of widgets"
   ]
  },
  {
   "cell_type": "code",
   "execution_count": 8,
   "metadata": {
    "collapsed": false
   },
   "outputs": [],
   "source": [
    "grade_top_row = widgets.HBox()\n",
    "\n",
    "hid_txt = widgets.HTML(\"Algo ID:\")\n",
    "hid_txt.font = 'helvetica'\n",
    "hid_txt.font_size = 20\n",
    "hid_txt.margin = 5\n",
    "\n",
    "grade_top_row.children = (hid_txt, algo_id_field, grade_select)\n",
    "grade_top_row.align = 'center'\n",
    "grade_bottom_row = widgets.HBox()\n",
    "grade_bottom_row.children = (grade_btn, tearsheet_btn)\n",
    "\n",
    "grade_form = widgets.VBox()\n",
    "grade_form.children = (grade_top_row, comment_field, grade_bottom_row)\n",
    "\n",
    "display(grade_form)"
   ]
  },
  {
   "cell_type": "markdown",
   "metadata": {
    "slideshow": {
     "slide_type": "slide"
    }
   },
   "source": [
    "### QGrid\n",
    "https://github.com/quantopian/qgrid"
   ]
  },
  {
   "cell_type": "code",
   "execution_count": 9,
   "metadata": {
    "collapsed": true,
    "slideshow": {
     "slide_type": "skip"
    }
   },
   "outputs": [],
   "source": [
    "import pandas as pd\n",
    "import qgrid\n",
    "qgrid.nbinstall()"
   ]
  },
  {
   "cell_type": "code",
   "execution_count": 10,
   "metadata": {
    "collapsed": false
   },
   "outputs": [],
   "source": [
    "import pandas as pd\n",
    "import qgrid\n",
    "qgrid.nbinstall()\n",
    "algo_grade_data = pd.read_csv('example_grading_queue.csv', \n",
    "                              parse_dates=['created_at', 'backtest_start', \n",
    "                                           'backtest_end'])\n",
    "grid = qgrid.show_grid(algo_grade_data)\n",
    "display(grid)"
   ]
  },
  {
   "cell_type": "code",
   "execution_count": 11,
   "metadata": {
    "collapsed": false,
    "slideshow": {
     "slide_type": "slide"
    }
   },
   "outputs": [],
   "source": [
    "q_grading = widgets.VBox()\n",
    "q_grading.children = (grid, grade_form)\n",
    "display(q_grading)"
   ]
  },
  {
   "cell_type": "markdown",
   "metadata": {
    "slideshow": {
     "slide_type": "slide"
    }
   },
   "source": [
    "# Onwards!\n",
    "\n",
    "- Pass selected row from front to back.\n",
    "- Pass new grade from back to front."
   ]
  },
  {
   "cell_type": "markdown",
   "metadata": {
    "slideshow": {
     "slide_type": "slide"
    }
   },
   "source": [
    "## Pass selected row from view to model"
   ]
  },
  {
   "cell_type": "code",
   "execution_count": null,
   "metadata": {
    "collapsed": false,
    "slideshow": {
     "slide_type": "-"
    }
   },
   "outputs": [],
   "source": [
    "javascript\n",
    "define([\"nbextensions/widgets/widgets/js/widget\", \"nbextensions/widgets/widgets/js/manager\"], \n",
    "function(widget, manager) {\n",
    "    var QGridView_ = widget.DOMWidgetView.extend({\n",
    "        render: function() {\n",
    "            //...lots of important stuff...\n",
    "            this.setupQGrid(dgrid, editors);\n",
    "        },\n",
    "        setupQGrid: function(dgrid, editors) {\n",
    "            var that = this;\n",
    "            this.$el.addClass('q-grid-container');\n",
    "            var table = this.$el.append('div');\n",
    "            table.addClass('q-grid');\n",
    "            var df = JSON.parse(this.model.get('_df_json'));\n",
    "            var column_types = JSON.parse(this.model.get('_column_types_json'));\n",
    "            grid = new dgrid.QGrid(table[0], df, column_types);\n",
    "                \n",
    "            //...lots of other important stuff...\n",
    "        \n",
    "            sgrid.onMouseDown.subscribe(function(e, args) {\n",
    "                var row_data = grid.slick_grid.row_data[args.row];\n",
    "                var msg = {'data': row_data, 'type': 'selected_row_change'};\n",
    "                that.send(msg);\n",
    "            });\n",
    "        }\n",
    "    });\n",
    "});"
   ]
  },
  {
   "cell_type": "markdown",
   "metadata": {
    "slideshow": {
     "slide_type": "slide"
    }
   },
   "source": [
    "## Make the relevant row data available as a traitlet"
   ]
  },
  {
   "cell_type": "code",
   "execution_count": 12,
   "metadata": {
    "collapsed": false,
    "slideshow": {
     "slide_type": "-"
    }
   },
   "outputs": [],
   "source": [
    "from traitlets import Unicode, Instance, Integer\n",
    "\n",
    "class QGridWidget(widgets.DOMWidget):\n",
    "    _view_module = Unicode(\"nbextensions/qgridjs/qgrid.widget\", sync=True)\n",
    "    _view_name = Unicode('QGridView', sync=True)\n",
    "    \n",
    "    # add a traitlet \n",
    "    selected_id = Integer(0, sync=True)\n",
    "               \n",
    "    self.on_msg(self._handle_qgrid_msg)\n",
    "\n",
    "    def _handle_qgrid_msg(self, widget, content, buffers=None):\n",
    "        if content['type'] == 'selected_row_change':\n",
    "            row_data = content['data']\n",
    "            self.selected_id = row_data['algo_id']"
   ]
  },
  {
   "cell_type": "code",
   "execution_count": 13,
   "metadata": {
    "collapsed": false,
    "slideshow": {
     "slide_type": "slide"
    }
   },
   "outputs": [],
   "source": [
    "from traitlets import link\n",
    "\n",
    "link((algo_id_field, 'value'), (grid, 'selected_id'))\n",
    "display(q_grading)"
   ]
  },
  {
   "cell_type": "markdown",
   "metadata": {
    "slideshow": {
     "slide_type": "slide"
    }
   },
   "source": [
    "## Passing new grades from model to view"
   ]
  },
  {
   "cell_type": "code",
   "execution_count": 14,
   "metadata": {
    "collapsed": false,
    "slideshow": {
     "slide_type": "-"
    }
   },
   "outputs": [],
   "source": [
    "class QGridWidget(widgets.DOMWidget):\n",
    "    _view_module = Unicode(\"nbextensions/qgridjs/qgrid.widget\", sync=True)\n",
    "    _view_name = Unicode('QGridView', sync=True)\n",
    "    \n",
    "    # add a traitlet\n",
    "    selected_id = Integer(0, sync=True)\n",
    "\n",
    "    def update_grade(self, algo_id, grader, grade):\n",
    "        row_ix = self.df[self.df.algo_id == algo_id].index.values[0]\n",
    "        col_ix = self.df.columns.get_loc(grader)\n",
    "        msg = {\n",
    "            'type': 'grade_cell_updated',\n",
    "            'row_ix': row_ix,\n",
    "            'col_ix': col_ix,\n",
    "            'new_val': grade,\n",
    "        }\n",
    "        self.send(msg)\n"
   ]
  },
  {
   "cell_type": "code",
   "execution_count": null,
   "metadata": {
    "collapsed": true,
    "slideshow": {
     "slide_type": "slide"
    }
   },
   "outputs": [],
   "source": [
    "javascript\n",
    "define([\"nbextensions/widgets/widgets/js/widget\", \"nbextensions/widgets/widgets/js/manager\"], \n",
    "function(widget, manager) {\n",
    "    var QGridView_ = widget.DOMWidgetView.extend({\n",
    "        render: function() {\n",
    "            //...lots of important stuff...\n",
    "            this.setupQGrid(dgrid, editors);\n",
    "        },\n",
    "        setupQGrid: function(dgrid, editors) {                \n",
    "            //...lots of other important stuff...\n",
    "            this.model.on('msg:custom', this.handleMsg, this);\n",
    "        },\n",
    "        \n",
    "        handleMsg: function(msg) {\n",
    "            var sgrid = grid.slick_grid; \n",
    "            if (msg.type == 'grade_cell_updated'){\n",
    "                var cell = sgrid.getCellNode(msg.row_ix, msg.col_ix)\n",
    "                cell.innerText = msg.new_val\n",
    "            }\n",
    "        }\n",
    "    });    \n",
    "});"
   ]
  },
  {
   "cell_type": "markdown",
   "metadata": {
    "collapsed": true,
    "slideshow": {
     "slide_type": "slide"
    }
   },
   "source": [
    "## Know your user"
   ]
  },
  {
   "cell_type": "code",
   "execution_count": 14,
   "metadata": {
    "collapsed": false
   },
   "outputs": [],
   "source": [
    "def get_user():\n",
    "    usernames = {'acampbell': 'Andrew',\n",
    "                 'wiecki': 'Thomas',\n",
    "                 'ddunn': 'Dan',\n",
    "                 'fawce': 'fawce',\n",
    "                 'jlent': 'Justin',\n",
    "                 'jstauth': 'Jess'}\n",
    "    resp = !echo \"$USER\"\n",
    "    bash_usr = resp[0]\n",
    "    user = usernames[bash_usr]\n",
    "    return user\n",
    "\n",
    "def v_grade(btn):\n",
    "    _grade = grade_select.selected_label\n",
    "    aid = algo_id_field.value\n",
    "    usr = get_user()\n",
    "    resp = write_grade_to_db(aid, usr, grade=_grade, \n",
    "                             comment=comment_field.value)\n",
    "    if resp == 'OK':\n",
    "        grid.update_grade(aid, usr + \"_grade\", _grade)\n",
    "\n",
    "q_grading.children[1].children[-1].children[0].on_click(v_grade)"
   ]
  },
  {
   "cell_type": "markdown",
   "metadata": {
    "slideshow": {
     "slide_type": "slide"
    }
   },
   "source": [
    "## Now make it look professional!"
   ]
  },
  {
   "cell_type": "code",
   "execution_count": 15,
   "metadata": {
    "collapsed": false
   },
   "outputs": [],
   "source": [
    "cells_visable = True\n",
    "def toggle_code_cells(btn):\n",
    "    global cells_visable\n",
    "    if cells_visable:\n",
    "        display(Javascript(\"$('div.input').hide();\"))\n",
    "        btn.description = \"Show Code Cells\"\n",
    "    else:\n",
    "        display(Javascript(\"$('div.input').show();\"))\n",
    "        btn.description = \"Hide Code Cells\"\n",
    "    cells_visable = not cells_visable\n",
    "    \n",
    "\n",
    "toggle_btn = widgets.Button(description=\"Hide Code Cells\")\n",
    "toggle_btn.on_click(toggle_code_cells)\n",
    "\n",
    "display(toggle_btn)"
   ]
  },
  {
   "cell_type": "markdown",
   "metadata": {
    "collapsed": true,
    "slideshow": {
     "slide_type": "slide"
    }
   },
   "source": [
    "## Another display gem"
   ]
  },
  {
   "cell_type": "code",
   "execution_count": 16,
   "metadata": {
    "collapsed": false
   },
   "outputs": [
    {
     "data": {
      "text/html": [
       "<style> .container { width:90% !important; } </style>"
      ],
      "text/plain": [
       "<IPython.core.display.HTML object>"
      ]
     },
     "metadata": {},
     "output_type": "display_data"
    }
   ],
   "source": [
    "css =\"\"\"<style> .container { width:90% !important; } </style>\"\"\"\n",
    "display(HTML(css))"
   ]
  },
  {
   "cell_type": "code",
   "execution_count": 17,
   "metadata": {
    "collapsed": false,
    "slideshow": {
     "slide_type": "slide"
    }
   },
   "outputs": [],
   "source": [
    "display(toggle_btn, q_grading)"
   ]
  },
  {
   "cell_type": "code",
   "execution_count": null,
   "metadata": {
    "collapsed": true
   },
   "outputs": [],
   "source": []
  }
 ],
 "metadata": {
  "celltoolbar": "Slideshow",
  "kernelspec": {
   "display_name": "Python 3",
   "language": "python",
   "name": "python3"
  },
  "language_info": {
   "codemirror_mode": {
    "name": "ipython",
    "version": 3
   },
   "file_extension": ".py",
   "mimetype": "text/x-python",
   "name": "python",
   "nbconvert_exporter": "python",
   "pygments_lexer": "ipython3",
   "version": "3.6.0"
  }
 },
 "nbformat": 4,
 "nbformat_minor": 0
}
